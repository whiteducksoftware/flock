{
 "cells": [
  {
   "cell_type": "markdown",
   "metadata": {},
   "source": [
    "# The Flock Crash Course\n",
    "\n",
    "### Preparation"
   ]
  },
  {
   "cell_type": "code",
   "execution_count": null,
   "metadata": {},
   "outputs": [],
   "source": [
    "%pip install wd-flock\n"
   ]
  },
  {
   "cell_type": "markdown",
   "metadata": {},
   "source": [
    "### Hello, Flock!"
   ]
  },
  {
   "cell_type": "code",
   "execution_count": 1,
   "metadata": {},
   "outputs": [
    {
     "name": "stdout",
     "output_type": "stream",
     "text": [
      "{\n",
      "    'funny_blog_title': 'The Art of Writing a Blog About Nothing: A Guide to Embracing the Void',\n",
      "    'blog_headers': (\n",
      "        '1. Introduction: The Beauty of Blank Pages\\n'\n",
      "        '2. Why Nothing is Something: Finding Inspiration in the Void\\n'\n",
      "        '3. The Zen of Zero: How to Write When You Have No Ideas\\n'\n",
      "        '4. The Seinfeld Effect: Making Something Out of Nothing\\n'\n",
      "        '5. Conclusion: Embracing the Absurdity of Blogging About Nothing'\n",
      "    ),\n",
      "    'blog_idea': None,\n",
      "}\n"
     ]
    },
    {
     "data": {
      "text/html": [
       "<pre style=\"white-space:pre;overflow-x:auto;line-height:normal;font-family:Menlo,'DejaVu Sans Mono',consolas,'Courier New',monospace\"><span style=\"color: #000080; text-decoration-color: #000080\">╭─ 🎯 Agent Output ───────────────────────────────────────────────────────────────────────────────────────────────╮</span>\n",
       "<span style=\"color: #000080; text-decoration-color: #000080\">│</span>                                                                                                                 <span style=\"color: #000080; text-decoration-color: #000080\">│</span>\n",
       "<span style=\"color: #000080; text-decoration-color: #000080\">│</span>  <span style=\"color: #000080; text-decoration-color: #000080; font-weight: bold\">                                    Agent Results: bloggy                                    </span>                  <span style=\"color: #000080; text-decoration-color: #000080\">│</span>\n",
       "<span style=\"color: #000080; text-decoration-color: #000080\">│</span>  <span style=\"color: #0000ff; text-decoration-color: #0000ff\">┏━━━━━━━━━━━━━━━━━━┳━━━━━━━━━━━━━━━━━━━━━━━━━━━━━━━━━━━━━━━━━━━━━━━━━━━━━━━━━━━━━━━━━━━━━━━━┓</span>                  <span style=\"color: #000080; text-decoration-color: #000080\">│</span>\n",
       "<span style=\"color: #000080; text-decoration-color: #000080\">│</span>  <span style=\"color: #0000ff; text-decoration-color: #0000ff\">┃</span><span style=\"color: #008000; text-decoration-color: #008000; font-weight: bold\"> Output           </span><span style=\"color: #0000ff; text-decoration-color: #0000ff\">┃</span><span style=\"color: #008000; text-decoration-color: #008000; font-weight: bold\"> Value                                                                  </span><span style=\"color: #0000ff; text-decoration-color: #0000ff\">┃</span>                  <span style=\"color: #000080; text-decoration-color: #000080\">│</span>\n",
       "<span style=\"color: #000080; text-decoration-color: #000080\">│</span>  <span style=\"color: #0000ff; text-decoration-color: #0000ff\">┡━━━━━━━━━━━━━━━━━━╇━━━━━━━━━━━━━━━━━━━━━━━━━━━━━━━━━━━━━━━━━━━━━━━━━━━━━━━━━━━━━━━━━━━━━━━━┩</span>                  <span style=\"color: #000080; text-decoration-color: #000080\">│</span>\n",
       "<span style=\"color: #000080; text-decoration-color: #000080\">│</span>  <span style=\"color: #0000ff; text-decoration-color: #0000ff\">│</span><span style=\"color: #008080; text-decoration-color: #008080\"> funny_blog_title </span><span style=\"color: #0000ff; text-decoration-color: #0000ff\">│</span><span style=\"color: #008000; text-decoration-color: #008000\"> The Art of Writing a Blog About Nothing: A Guide to Embracing the Void </span><span style=\"color: #0000ff; text-decoration-color: #0000ff\">│</span>                  <span style=\"color: #000080; text-decoration-color: #000080\">│</span>\n",
       "<span style=\"color: #000080; text-decoration-color: #000080\">│</span>  <span style=\"color: #0000ff; text-decoration-color: #0000ff\">│</span><span style=\"color: #008080; text-decoration-color: #008080\"> blog_headers     </span><span style=\"color: #0000ff; text-decoration-color: #0000ff\">│</span><span style=\"color: #008000; text-decoration-color: #008000\">                                                                        </span><span style=\"color: #0000ff; text-decoration-color: #0000ff\">│</span>                  <span style=\"color: #000080; text-decoration-color: #000080\">│</span>\n",
       "<span style=\"color: #000080; text-decoration-color: #000080\">│</span>  <span style=\"color: #0000ff; text-decoration-color: #0000ff\">│</span><span style=\"color: #008080; text-decoration-color: #008080\">                  </span><span style=\"color: #0000ff; text-decoration-color: #0000ff\">│</span><span style=\"color: #008000; text-decoration-color: #008000\"> 1. Introduction: The Beauty of Blank Pages                             </span><span style=\"color: #0000ff; text-decoration-color: #0000ff\">│</span>                  <span style=\"color: #000080; text-decoration-color: #000080\">│</span>\n",
       "<span style=\"color: #000080; text-decoration-color: #000080\">│</span>  <span style=\"color: #0000ff; text-decoration-color: #0000ff\">│</span><span style=\"color: #008080; text-decoration-color: #008080\">                  </span><span style=\"color: #0000ff; text-decoration-color: #0000ff\">│</span><span style=\"color: #008000; text-decoration-color: #008000\"> 2. Why Nothing is Something: Finding Inspiration in the Void           </span><span style=\"color: #0000ff; text-decoration-color: #0000ff\">│</span>                  <span style=\"color: #000080; text-decoration-color: #000080\">│</span>\n",
       "<span style=\"color: #000080; text-decoration-color: #000080\">│</span>  <span style=\"color: #0000ff; text-decoration-color: #0000ff\">│</span><span style=\"color: #008080; text-decoration-color: #008080\">                  </span><span style=\"color: #0000ff; text-decoration-color: #0000ff\">│</span><span style=\"color: #008000; text-decoration-color: #008000\"> 3. The Zen of Zero: How to Write When You Have No Ideas                </span><span style=\"color: #0000ff; text-decoration-color: #0000ff\">│</span>                  <span style=\"color: #000080; text-decoration-color: #000080\">│</span>\n",
       "<span style=\"color: #000080; text-decoration-color: #000080\">│</span>  <span style=\"color: #0000ff; text-decoration-color: #0000ff\">│</span><span style=\"color: #008080; text-decoration-color: #008080\">                  </span><span style=\"color: #0000ff; text-decoration-color: #0000ff\">│</span><span style=\"color: #008000; text-decoration-color: #008000\"> 4. The Seinfeld Effect: Making Something Out of Nothing                </span><span style=\"color: #0000ff; text-decoration-color: #0000ff\">│</span>                  <span style=\"color: #000080; text-decoration-color: #000080\">│</span>\n",
       "<span style=\"color: #000080; text-decoration-color: #000080\">│</span>  <span style=\"color: #0000ff; text-decoration-color: #0000ff\">│</span><span style=\"color: #008080; text-decoration-color: #008080\">                  </span><span style=\"color: #0000ff; text-decoration-color: #0000ff\">│</span><span style=\"color: #008000; text-decoration-color: #008000\"> 5. Conclusion: Embracing the Absurdity of Blogging About Nothing       </span><span style=\"color: #0000ff; text-decoration-color: #0000ff\">│</span>                  <span style=\"color: #000080; text-decoration-color: #000080\">│</span>\n",
       "<span style=\"color: #000080; text-decoration-color: #000080\">│</span>  <span style=\"color: #0000ff; text-decoration-color: #0000ff\">│</span><span style=\"color: #008080; text-decoration-color: #008080\">                  </span><span style=\"color: #0000ff; text-decoration-color: #0000ff\">│</span><span style=\"color: #008000; text-decoration-color: #008000\">                                                                        </span><span style=\"color: #0000ff; text-decoration-color: #0000ff\">│</span>                  <span style=\"color: #000080; text-decoration-color: #000080\">│</span>\n",
       "<span style=\"color: #000080; text-decoration-color: #000080\">│</span>  <span style=\"color: #0000ff; text-decoration-color: #0000ff\">│</span><span style=\"color: #008080; text-decoration-color: #008080\"> blog_idea        </span><span style=\"color: #0000ff; text-decoration-color: #0000ff\">│</span><span style=\"color: #008000; text-decoration-color: #008000\"> None                                                                   </span><span style=\"color: #0000ff; text-decoration-color: #0000ff\">│</span>                  <span style=\"color: #000080; text-decoration-color: #000080\">│</span>\n",
       "<span style=\"color: #000080; text-decoration-color: #000080\">│</span>  <span style=\"color: #0000ff; text-decoration-color: #0000ff\">└──────────────────┴────────────────────────────────────────────────────────────────────────┘</span>                  <span style=\"color: #000080; text-decoration-color: #000080\">│</span>\n",
       "<span style=\"color: #000080; text-decoration-color: #000080\">│</span>                                                                                                                 <span style=\"color: #000080; text-decoration-color: #000080\">│</span>\n",
       "<span style=\"color: #000080; text-decoration-color: #000080\">╰─────────────────────────────────────────────────────────────────────────────────────────────────────────────────╯</span>\n",
       "</pre>\n"
      ],
      "text/plain": [
       "\u001b[34m╭─\u001b[0m\u001b[34m 🎯 Agent Output \u001b[0m\u001b[34m──────────────────────────────────────────────────────────────────────────────────────────────\u001b[0m\u001b[34m─╮\u001b[0m\n",
       "\u001b[34m│\u001b[0m                                                                                                                 \u001b[34m│\u001b[0m\n",
       "\u001b[34m│\u001b[0m  \u001b[1;34m                                    Agent Results: bloggy                                    \u001b[0m                  \u001b[34m│\u001b[0m\n",
       "\u001b[34m│\u001b[0m  \u001b[94m┏━━━━━━━━━━━━━━━━━━┳━━━━━━━━━━━━━━━━━━━━━━━━━━━━━━━━━━━━━━━━━━━━━━━━━━━━━━━━━━━━━━━━━━━━━━━━┓\u001b[0m                  \u001b[34m│\u001b[0m\n",
       "\u001b[34m│\u001b[0m  \u001b[94m┃\u001b[0m\u001b[1;32m \u001b[0m\u001b[1;32mOutput          \u001b[0m\u001b[1;32m \u001b[0m\u001b[94m┃\u001b[0m\u001b[1;32m \u001b[0m\u001b[1;32mValue                                                                 \u001b[0m\u001b[1;32m \u001b[0m\u001b[94m┃\u001b[0m                  \u001b[34m│\u001b[0m\n",
       "\u001b[34m│\u001b[0m  \u001b[94m┡━━━━━━━━━━━━━━━━━━╇━━━━━━━━━━━━━━━━━━━━━━━━━━━━━━━━━━━━━━━━━━━━━━━━━━━━━━━━━━━━━━━━━━━━━━━━┩\u001b[0m                  \u001b[34m│\u001b[0m\n",
       "\u001b[34m│\u001b[0m  \u001b[94m│\u001b[0m\u001b[36m \u001b[0m\u001b[36mfunny_blog_title\u001b[0m\u001b[36m \u001b[0m\u001b[94m│\u001b[0m\u001b[32m \u001b[0m\u001b[32mThe Art of Writing a Blog About Nothing: A Guide to Embracing the Void\u001b[0m\u001b[32m \u001b[0m\u001b[94m│\u001b[0m                  \u001b[34m│\u001b[0m\n",
       "\u001b[34m│\u001b[0m  \u001b[94m│\u001b[0m\u001b[36m \u001b[0m\u001b[36mblog_headers    \u001b[0m\u001b[36m \u001b[0m\u001b[94m│\u001b[0m\u001b[32m \u001b[0m\u001b[32m                                                                      \u001b[0m\u001b[32m \u001b[0m\u001b[94m│\u001b[0m                  \u001b[34m│\u001b[0m\n",
       "\u001b[34m│\u001b[0m  \u001b[94m│\u001b[0m\u001b[36m                  \u001b[0m\u001b[94m│\u001b[0m\u001b[32m \u001b[0m\u001b[32m1. Introduction: The Beauty of Blank Pages                            \u001b[0m\u001b[32m \u001b[0m\u001b[94m│\u001b[0m                  \u001b[34m│\u001b[0m\n",
       "\u001b[34m│\u001b[0m  \u001b[94m│\u001b[0m\u001b[36m                  \u001b[0m\u001b[94m│\u001b[0m\u001b[32m \u001b[0m\u001b[32m2. Why Nothing is Something: Finding Inspiration in the Void          \u001b[0m\u001b[32m \u001b[0m\u001b[94m│\u001b[0m                  \u001b[34m│\u001b[0m\n",
       "\u001b[34m│\u001b[0m  \u001b[94m│\u001b[0m\u001b[36m                  \u001b[0m\u001b[94m│\u001b[0m\u001b[32m \u001b[0m\u001b[32m3. The Zen of Zero: How to Write When You Have No Ideas               \u001b[0m\u001b[32m \u001b[0m\u001b[94m│\u001b[0m                  \u001b[34m│\u001b[0m\n",
       "\u001b[34m│\u001b[0m  \u001b[94m│\u001b[0m\u001b[36m                  \u001b[0m\u001b[94m│\u001b[0m\u001b[32m \u001b[0m\u001b[32m4. The Seinfeld Effect: Making Something Out of Nothing               \u001b[0m\u001b[32m \u001b[0m\u001b[94m│\u001b[0m                  \u001b[34m│\u001b[0m\n",
       "\u001b[34m│\u001b[0m  \u001b[94m│\u001b[0m\u001b[36m                  \u001b[0m\u001b[94m│\u001b[0m\u001b[32m \u001b[0m\u001b[32m5. Conclusion: Embracing the Absurdity of Blogging About Nothing      \u001b[0m\u001b[32m \u001b[0m\u001b[94m│\u001b[0m                  \u001b[34m│\u001b[0m\n",
       "\u001b[34m│\u001b[0m  \u001b[94m│\u001b[0m\u001b[36m                  \u001b[0m\u001b[94m│\u001b[0m\u001b[32m \u001b[0m\u001b[32m                                                                      \u001b[0m\u001b[32m \u001b[0m\u001b[94m│\u001b[0m                  \u001b[34m│\u001b[0m\n",
       "\u001b[34m│\u001b[0m  \u001b[94m│\u001b[0m\u001b[36m \u001b[0m\u001b[36mblog_idea       \u001b[0m\u001b[36m \u001b[0m\u001b[94m│\u001b[0m\u001b[32m \u001b[0m\u001b[32mNone                                                                  \u001b[0m\u001b[32m \u001b[0m\u001b[94m│\u001b[0m                  \u001b[34m│\u001b[0m\n",
       "\u001b[34m│\u001b[0m  \u001b[94m└──────────────────┴────────────────────────────────────────────────────────────────────────┘\u001b[0m                  \u001b[34m│\u001b[0m\n",
       "\u001b[34m│\u001b[0m                                                                                                                 \u001b[34m│\u001b[0m\n",
       "\u001b[34m╰─────────────────────────────────────────────────────────────────────────────────────────────────────────────────╯\u001b[0m\n"
      ]
     },
     "metadata": {},
     "output_type": "display_data"
    },
    {
     "data": {
      "text/plain": [
       "Box({'funny_blog_title': 'The Art of Writing a Blog About Nothing: A Guide to Embracing the Void', 'blog_headers': '1. Introduction: The Beauty of Blank Pages\\n2. Why Nothing is Something: Finding Inspiration in the Void\\n3. The Zen of Zero: How to Write When You Have No Ideas\\n4. The Seinfeld Effect: Making Something Out of Nothing\\n5. Conclusion: Embracing the Absurdity of Blogging About Nothing', 'blog_idea': None})"
      ]
     },
     "execution_count": 1,
     "metadata": {},
     "output_type": "execute_result"
    }
   ],
   "source": [
    "from flock.agents.declarative_agent import DeclarativeAgent\n",
    "from flock.core.flock import Flock\n",
    "\n",
    "flock = Flock(local_debug=True)\n",
    "bloggy = DeclarativeAgent(\n",
    "        name=\"bloggy\",\n",
    "        input=\"blog_idea\",\n",
    "        output=\"funny_blog_title, blog_headers\"\n",
    "    )\n",
    "flock.add_agent(bloggy)\n",
    "await flock.run_async(start_agent=bloggy, input=\"a blog about cats\")\n",
    "\n",
    "\n"
   ]
  },
  {
   "cell_type": "markdown",
   "metadata": {},
   "source": []
  }
 ],
 "metadata": {
  "kernelspec": {
   "display_name": ".venv",
   "language": "python",
   "name": "python3"
  },
  "language_info": {
   "codemirror_mode": {
    "name": "ipython",
    "version": 3
   },
   "file_extension": ".py",
   "mimetype": "text/x-python",
   "name": "python",
   "nbconvert_exporter": "python",
   "pygments_lexer": "ipython3",
   "version": "3.12.8"
  }
 },
 "nbformat": 4,
 "nbformat_minor": 2
}
